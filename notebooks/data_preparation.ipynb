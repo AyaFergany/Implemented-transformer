{
  "cells": [
    {
      "cell_type": "markdown",
      "id": "34fa65f5",
      "metadata": {
        "papermill": {
          "duration": 0.006628,
          "end_time": "2024-01-20T11:46:40.217229",
          "exception": false,
          "start_time": "2024-01-20T11:46:40.210601",
          "status": "completed"
        },
        "tags": [],
        "id": "34fa65f5"
      },
      "source": [
        "# Data Preparation for Machine Translation\n"
      ]
    },
    {
      "cell_type": "code",
      "execution_count": null,
      "id": "5ab085ee",
      "metadata": {
        "execution": {
          "iopub.execute_input": "2024-01-20T11:46:40.231993Z",
          "iopub.status.busy": "2024-01-20T11:46:40.231406Z",
          "iopub.status.idle": "2024-01-20T11:46:59.094472Z",
          "shell.execute_reply": "2024-01-20T11:46:59.093398Z"
        },
        "papermill": {
          "duration": 18.873248,
          "end_time": "2024-01-20T11:46:59.096812",
          "exception": false,
          "start_time": "2024-01-20T11:46:40.223564",
          "status": "completed"
        },
        "tags": [],
        "colab": {
          "base_uri": "https://localhost:8080/"
        },
        "id": "5ab085ee",
        "outputId": "5af9c8f9-2bbf-4ed6-f656-fb6429c27ffe"
      },
      "outputs": [
        {
          "output_type": "stream",
          "name": "stderr",
          "text": [
            "/usr/local/lib/python3.10/dist-packages/torchtext/data/__init__.py:4: UserWarning: \n",
            "/!\\ IMPORTANT WARNING ABOUT TORCHTEXT STATUS /!\\ \n",
            "Torchtext is deprecated and the last released version will be 0.18 (this one). You can silence this warning by calling the following at the beginnign of your scripts: `import torchtext; torchtext.disable_torchtext_deprecation_warning()`\n",
            "  warnings.warn(torchtext._TORCHTEXT_DEPRECATION_MSG)\n",
            "/usr/local/lib/python3.10/dist-packages/torchtext/vocab/__init__.py:4: UserWarning: \n",
            "/!\\ IMPORTANT WARNING ABOUT TORCHTEXT STATUS /!\\ \n",
            "Torchtext is deprecated and the last released version will be 0.18 (this one). You can silence this warning by calling the following at the beginnign of your scripts: `import torchtext; torchtext.disable_torchtext_deprecation_warning()`\n",
            "  warnings.warn(torchtext._TORCHTEXT_DEPRECATION_MSG)\n",
            "/usr/local/lib/python3.10/dist-packages/torchtext/utils.py:4: UserWarning: \n",
            "/!\\ IMPORTANT WARNING ABOUT TORCHTEXT STATUS /!\\ \n",
            "Torchtext is deprecated and the last released version will be 0.18 (this one). You can silence this warning by calling the following at the beginnign of your scripts: `import torchtext; torchtext.disable_torchtext_deprecation_warning()`\n",
            "  warnings.warn(torchtext._TORCHTEXT_DEPRECATION_MSG)\n",
            "/usr/local/lib/python3.10/dist-packages/torchtext/datasets/__init__.py:4: UserWarning: \n",
            "/!\\ IMPORTANT WARNING ABOUT TORCHTEXT STATUS /!\\ \n",
            "Torchtext is deprecated and the last released version will be 0.18 (this one). You can silence this warning by calling the following at the beginnign of your scripts: `import torchtext; torchtext.disable_torchtext_deprecation_warning()`\n",
            "  warnings.warn(torchtext._TORCHTEXT_DEPRECATION_MSG)\n"
          ]
        }
      ],
      "source": [
        "!pip install -q portalocker\n",
        "\n",
        "# importing required libraries\n",
        "import math\n",
        "import copy\n",
        "import time\n",
        "import random\n",
        "import spacy\n",
        "import numpy as np\n",
        "import os\n",
        "\n",
        "# torch packages\n",
        "import torch\n",
        "import torch.nn as nn\n",
        "import torch.nn.functional as F\n",
        "from torch import Tensor\n",
        "import torch.optim as optim\n",
        "\n",
        "# load and build datasets\n",
        "import torchtext\n",
        "from torchtext.data.functional import to_map_style_dataset\n",
        "from torch.nn.functional import pad\n",
        "from torch.utils.data import DataLoader\n",
        "from torchtext.vocab import build_vocab_from_iterator\n",
        "import torchtext.datasets as datasets\n",
        "import portalocker\n",
        "\n",
        "# visualization packages\n",
        "from mpl_toolkits import mplot3d\n",
        "import matplotlib.pyplot as plt\n",
        "import matplotlib.ticker as ticker\n",
        "\n",
        "device = torch.device(\"cuda\" if torch.cuda.is_available() else \"cpu\")"
      ]
    },
    {
      "cell_type": "code",
      "execution_count": null,
      "id": "eeeeb3ac",
      "metadata": {
        "execution": {
          "iopub.execute_input": "2024-01-20T11:46:59.111419Z",
          "iopub.status.busy": "2024-01-20T11:46:59.110453Z",
          "iopub.status.idle": "2024-01-20T11:46:59.120439Z",
          "shell.execute_reply": "2024-01-20T11:46:59.119144Z"
        },
        "papermill": {
          "duration": 0.019289,
          "end_time": "2024-01-20T11:46:59.122350",
          "exception": false,
          "start_time": "2024-01-20T11:46:59.103061",
          "status": "completed"
        },
        "tags": [],
        "colab": {
          "base_uri": "https://localhost:8080/"
        },
        "id": "eeeeb3ac",
        "outputId": "486ab302-ee79-4a8b-f07a-0138ce780e8d"
      },
      "outputs": [
        {
          "output_type": "execute_result",
          "data": {
            "text/plain": [
              "device(type='cpu')"
            ]
          },
          "metadata": {},
          "execution_count": 2
        }
      ],
      "source": [
        "device"
      ]
    },
    {
      "cell_type": "markdown",
      "id": "f6a2adc2",
      "metadata": {
        "papermill": {
          "duration": 0.005771,
          "end_time": "2024-01-20T11:46:59.134253",
          "exception": false,
          "start_time": "2024-01-20T11:46:59.128482",
          "status": "completed"
        },
        "tags": [],
        "id": "f6a2adc2"
      },
      "source": [
        "## Reading the dataframe and converting it into iterable for consuming in pytorch dataset"
      ]
    },
    {
      "cell_type": "code",
      "execution_count": null,
      "id": "478a2af2",
      "metadata": {
        "execution": {
          "iopub.execute_input": "2024-01-20T11:46:59.147774Z",
          "iopub.status.busy": "2024-01-20T11:46:59.147426Z",
          "iopub.status.idle": "2024-01-20T11:46:59.152440Z",
          "shell.execute_reply": "2024-01-20T11:46:59.151242Z"
        },
        "papermill": {
          "duration": 0.014161,
          "end_time": "2024-01-20T11:46:59.154306",
          "exception": false,
          "start_time": "2024-01-20T11:46:59.140145",
          "status": "completed"
        },
        "tags": [],
        "id": "478a2af2"
      },
      "outputs": [],
      "source": [
        "import pandas as pd\n",
        "from tqdm import tqdm"
      ]
    },
    {
      "cell_type": "code",
      "execution_count": null,
      "id": "f498238f",
      "metadata": {
        "execution": {
          "iopub.execute_input": "2024-01-20T11:46:59.169032Z",
          "iopub.status.busy": "2024-01-20T11:46:59.168575Z",
          "iopub.status.idle": "2024-01-20T11:46:59.316348Z",
          "shell.execute_reply": "2024-01-20T11:46:59.314653Z"
        },
        "papermill": {
          "duration": 0.157704,
          "end_time": "2024-01-20T11:46:59.318586",
          "exception": false,
          "start_time": "2024-01-20T11:46:59.160882",
          "status": "completed"
        },
        "tags": [],
        "colab": {
          "base_uri": "https://localhost:8080/",
          "height": 293
        },
        "id": "f498238f",
        "outputId": "03f77630-a333-475c-c849-cfe6aab21fbe"
      },
      "outputs": [
        {
          "output_type": "execute_result",
          "data": {
            "text/plain": [
              "                                             english  \\\n",
              "0  Two young, White males are outside near many b...   \n",
              "1  Several men in hard hats are operating a giant...   \n",
              "2    A little girl climbing into a wooden playhouse.   \n",
              "3  A man in a blue shirt is standing on a ladder ...   \n",
              "4           Two men are at the stove preparing food.   \n",
              "\n",
              "                                              german  \n",
              "0  Zwei junge weiße Männer sind im Freien in der ...  \n",
              "1  Mehrere Männer mit Schutzhelmen bedienen ein A...  \n",
              "2  Ein kleines Mädchen klettert in ein Spielhaus ...  \n",
              "3  Ein Mann in einem blauen Hemd steht auf einer ...  \n",
              "4  Zwei Männer stehen am Herd und bereiten Essen zu.  "
            ],
            "text/html": [
              "\n",
              "  <div id=\"df-68c5ad19-9dc5-4581-b37e-387fdaa677cb\" class=\"colab-df-container\">\n",
              "    <div>\n",
              "<style scoped>\n",
              "    .dataframe tbody tr th:only-of-type {\n",
              "        vertical-align: middle;\n",
              "    }\n",
              "\n",
              "    .dataframe tbody tr th {\n",
              "        vertical-align: top;\n",
              "    }\n",
              "\n",
              "    .dataframe thead th {\n",
              "        text-align: right;\n",
              "    }\n",
              "</style>\n",
              "<table border=\"1\" class=\"dataframe\">\n",
              "  <thead>\n",
              "    <tr style=\"text-align: right;\">\n",
              "      <th></th>\n",
              "      <th>english</th>\n",
              "      <th>german</th>\n",
              "    </tr>\n",
              "  </thead>\n",
              "  <tbody>\n",
              "    <tr>\n",
              "      <th>0</th>\n",
              "      <td>Two young, White males are outside near many b...</td>\n",
              "      <td>Zwei junge weiße Männer sind im Freien in der ...</td>\n",
              "    </tr>\n",
              "    <tr>\n",
              "      <th>1</th>\n",
              "      <td>Several men in hard hats are operating a giant...</td>\n",
              "      <td>Mehrere Männer mit Schutzhelmen bedienen ein A...</td>\n",
              "    </tr>\n",
              "    <tr>\n",
              "      <th>2</th>\n",
              "      <td>A little girl climbing into a wooden playhouse.</td>\n",
              "      <td>Ein kleines Mädchen klettert in ein Spielhaus ...</td>\n",
              "    </tr>\n",
              "    <tr>\n",
              "      <th>3</th>\n",
              "      <td>A man in a blue shirt is standing on a ladder ...</td>\n",
              "      <td>Ein Mann in einem blauen Hemd steht auf einer ...</td>\n",
              "    </tr>\n",
              "    <tr>\n",
              "      <th>4</th>\n",
              "      <td>Two men are at the stove preparing food.</td>\n",
              "      <td>Zwei Männer stehen am Herd und bereiten Essen zu.</td>\n",
              "    </tr>\n",
              "  </tbody>\n",
              "</table>\n",
              "</div>\n",
              "    <div class=\"colab-df-buttons\">\n",
              "\n",
              "  <div class=\"colab-df-container\">\n",
              "    <button class=\"colab-df-convert\" onclick=\"convertToInteractive('df-68c5ad19-9dc5-4581-b37e-387fdaa677cb')\"\n",
              "            title=\"Convert this dataframe to an interactive table.\"\n",
              "            style=\"display:none;\">\n",
              "\n",
              "  <svg xmlns=\"http://www.w3.org/2000/svg\" height=\"24px\" viewBox=\"0 -960 960 960\">\n",
              "    <path d=\"M120-120v-720h720v720H120Zm60-500h600v-160H180v160Zm220 220h160v-160H400v160Zm0 220h160v-160H400v160ZM180-400h160v-160H180v160Zm440 0h160v-160H620v160ZM180-180h160v-160H180v160Zm440 0h160v-160H620v160Z\"/>\n",
              "  </svg>\n",
              "    </button>\n",
              "\n",
              "  <style>\n",
              "    .colab-df-container {\n",
              "      display:flex;\n",
              "      gap: 12px;\n",
              "    }\n",
              "\n",
              "    .colab-df-convert {\n",
              "      background-color: #E8F0FE;\n",
              "      border: none;\n",
              "      border-radius: 50%;\n",
              "      cursor: pointer;\n",
              "      display: none;\n",
              "      fill: #1967D2;\n",
              "      height: 32px;\n",
              "      padding: 0 0 0 0;\n",
              "      width: 32px;\n",
              "    }\n",
              "\n",
              "    .colab-df-convert:hover {\n",
              "      background-color: #E2EBFA;\n",
              "      box-shadow: 0px 1px 2px rgba(60, 64, 67, 0.3), 0px 1px 3px 1px rgba(60, 64, 67, 0.15);\n",
              "      fill: #174EA6;\n",
              "    }\n",
              "\n",
              "    .colab-df-buttons div {\n",
              "      margin-bottom: 4px;\n",
              "    }\n",
              "\n",
              "    [theme=dark] .colab-df-convert {\n",
              "      background-color: #3B4455;\n",
              "      fill: #D2E3FC;\n",
              "    }\n",
              "\n",
              "    [theme=dark] .colab-df-convert:hover {\n",
              "      background-color: #434B5C;\n",
              "      box-shadow: 0px 1px 3px 1px rgba(0, 0, 0, 0.15);\n",
              "      filter: drop-shadow(0px 1px 2px rgba(0, 0, 0, 0.3));\n",
              "      fill: #FFFFFF;\n",
              "    }\n",
              "  </style>\n",
              "\n",
              "    <script>\n",
              "      const buttonEl =\n",
              "        document.querySelector('#df-68c5ad19-9dc5-4581-b37e-387fdaa677cb button.colab-df-convert');\n",
              "      buttonEl.style.display =\n",
              "        google.colab.kernel.accessAllowed ? 'block' : 'none';\n",
              "\n",
              "      async function convertToInteractive(key) {\n",
              "        const element = document.querySelector('#df-68c5ad19-9dc5-4581-b37e-387fdaa677cb');\n",
              "        const dataTable =\n",
              "          await google.colab.kernel.invokeFunction('convertToInteractive',\n",
              "                                                    [key], {});\n",
              "        if (!dataTable) return;\n",
              "\n",
              "        const docLinkHtml = 'Like what you see? Visit the ' +\n",
              "          '<a target=\"_blank\" href=https://colab.research.google.com/notebooks/data_table.ipynb>data table notebook</a>'\n",
              "          + ' to learn more about interactive tables.';\n",
              "        element.innerHTML = '';\n",
              "        dataTable['output_type'] = 'display_data';\n",
              "        await google.colab.output.renderOutput(dataTable, element);\n",
              "        const docLink = document.createElement('div');\n",
              "        docLink.innerHTML = docLinkHtml;\n",
              "        element.appendChild(docLink);\n",
              "      }\n",
              "    </script>\n",
              "  </div>\n",
              "\n",
              "\n",
              "<div id=\"df-edd7188a-aac2-433a-8b94-0d0385ef6bd1\">\n",
              "  <button class=\"colab-df-quickchart\" onclick=\"quickchart('df-edd7188a-aac2-433a-8b94-0d0385ef6bd1')\"\n",
              "            title=\"Suggest charts\"\n",
              "            style=\"display:none;\">\n",
              "\n",
              "<svg xmlns=\"http://www.w3.org/2000/svg\" height=\"24px\"viewBox=\"0 0 24 24\"\n",
              "     width=\"24px\">\n",
              "    <g>\n",
              "        <path d=\"M19 3H5c-1.1 0-2 .9-2 2v14c0 1.1.9 2 2 2h14c1.1 0 2-.9 2-2V5c0-1.1-.9-2-2-2zM9 17H7v-7h2v7zm4 0h-2V7h2v10zm4 0h-2v-4h2v4z\"/>\n",
              "    </g>\n",
              "</svg>\n",
              "  </button>\n",
              "\n",
              "<style>\n",
              "  .colab-df-quickchart {\n",
              "      --bg-color: #E8F0FE;\n",
              "      --fill-color: #1967D2;\n",
              "      --hover-bg-color: #E2EBFA;\n",
              "      --hover-fill-color: #174EA6;\n",
              "      --disabled-fill-color: #AAA;\n",
              "      --disabled-bg-color: #DDD;\n",
              "  }\n",
              "\n",
              "  [theme=dark] .colab-df-quickchart {\n",
              "      --bg-color: #3B4455;\n",
              "      --fill-color: #D2E3FC;\n",
              "      --hover-bg-color: #434B5C;\n",
              "      --hover-fill-color: #FFFFFF;\n",
              "      --disabled-bg-color: #3B4455;\n",
              "      --disabled-fill-color: #666;\n",
              "  }\n",
              "\n",
              "  .colab-df-quickchart {\n",
              "    background-color: var(--bg-color);\n",
              "    border: none;\n",
              "    border-radius: 50%;\n",
              "    cursor: pointer;\n",
              "    display: none;\n",
              "    fill: var(--fill-color);\n",
              "    height: 32px;\n",
              "    padding: 0;\n",
              "    width: 32px;\n",
              "  }\n",
              "\n",
              "  .colab-df-quickchart:hover {\n",
              "    background-color: var(--hover-bg-color);\n",
              "    box-shadow: 0 1px 2px rgba(60, 64, 67, 0.3), 0 1px 3px 1px rgba(60, 64, 67, 0.15);\n",
              "    fill: var(--button-hover-fill-color);\n",
              "  }\n",
              "\n",
              "  .colab-df-quickchart-complete:disabled,\n",
              "  .colab-df-quickchart-complete:disabled:hover {\n",
              "    background-color: var(--disabled-bg-color);\n",
              "    fill: var(--disabled-fill-color);\n",
              "    box-shadow: none;\n",
              "  }\n",
              "\n",
              "  .colab-df-spinner {\n",
              "    border: 2px solid var(--fill-color);\n",
              "    border-color: transparent;\n",
              "    border-bottom-color: var(--fill-color);\n",
              "    animation:\n",
              "      spin 1s steps(1) infinite;\n",
              "  }\n",
              "\n",
              "  @keyframes spin {\n",
              "    0% {\n",
              "      border-color: transparent;\n",
              "      border-bottom-color: var(--fill-color);\n",
              "      border-left-color: var(--fill-color);\n",
              "    }\n",
              "    20% {\n",
              "      border-color: transparent;\n",
              "      border-left-color: var(--fill-color);\n",
              "      border-top-color: var(--fill-color);\n",
              "    }\n",
              "    30% {\n",
              "      border-color: transparent;\n",
              "      border-left-color: var(--fill-color);\n",
              "      border-top-color: var(--fill-color);\n",
              "      border-right-color: var(--fill-color);\n",
              "    }\n",
              "    40% {\n",
              "      border-color: transparent;\n",
              "      border-right-color: var(--fill-color);\n",
              "      border-top-color: var(--fill-color);\n",
              "    }\n",
              "    60% {\n",
              "      border-color: transparent;\n",
              "      border-right-color: var(--fill-color);\n",
              "    }\n",
              "    80% {\n",
              "      border-color: transparent;\n",
              "      border-right-color: var(--fill-color);\n",
              "      border-bottom-color: var(--fill-color);\n",
              "    }\n",
              "    90% {\n",
              "      border-color: transparent;\n",
              "      border-bottom-color: var(--fill-color);\n",
              "    }\n",
              "  }\n",
              "</style>\n",
              "\n",
              "  <script>\n",
              "    async function quickchart(key) {\n",
              "      const quickchartButtonEl =\n",
              "        document.querySelector('#' + key + ' button');\n",
              "      quickchartButtonEl.disabled = true;  // To prevent multiple clicks.\n",
              "      quickchartButtonEl.classList.add('colab-df-spinner');\n",
              "      try {\n",
              "        const charts = await google.colab.kernel.invokeFunction(\n",
              "            'suggestCharts', [key], {});\n",
              "      } catch (error) {\n",
              "        console.error('Error during call to suggestCharts:', error);\n",
              "      }\n",
              "      quickchartButtonEl.classList.remove('colab-df-spinner');\n",
              "      quickchartButtonEl.classList.add('colab-df-quickchart-complete');\n",
              "    }\n",
              "    (() => {\n",
              "      let quickchartButtonEl =\n",
              "        document.querySelector('#df-edd7188a-aac2-433a-8b94-0d0385ef6bd1 button');\n",
              "      quickchartButtonEl.style.display =\n",
              "        google.colab.kernel.accessAllowed ? 'block' : 'none';\n",
              "    })();\n",
              "  </script>\n",
              "</div>\n",
              "\n",
              "    </div>\n",
              "  </div>\n"
            ],
            "application/vnd.google.colaboratory.intrinsic+json": {
              "type": "dataframe",
              "variable_name": "df",
              "summary": "{\n  \"name\": \"df\",\n  \"rows\": 29000,\n  \"fields\": [\n    {\n      \"column\": \"english\",\n      \"properties\": {\n        \"dtype\": \"string\",\n        \"num_unique_values\": 28991,\n        \"samples\": [\n          \"Little boy pulling a green wagon wearing a sweatshirt and boots.\",\n          \"Three dancers wearing red sashes perform on a darkened stage.\",\n          \"A man, wearing an official jacket and hat, is leaning against a rail while reading a newspaper.\"\n        ],\n        \"semantic_type\": \"\",\n        \"description\": \"\"\n      }\n    },\n    {\n      \"column\": \"german\",\n      \"properties\": {\n        \"dtype\": \"string\",\n        \"num_unique_values\": 28975,\n        \"samples\": [\n          \"Drei Frauen beten mit gefalteten H\\u00e4nden.\",\n          \"Zwei Wanderer wandern neben einer gr\\u00fcnen Konifere eine karge B\\u00f6schung hinunter.\",\n          \"Drei Kinder stehen auf einem umgest\\u00fcrzten Baumstamm.\"\n        ],\n        \"semantic_type\": \"\",\n        \"description\": \"\"\n      }\n    }\n  ]\n}"
            }
          },
          "metadata": {},
          "execution_count": 5
        }
      ],
      "source": [
        "df = pd.read_csv(\n",
        "    \"/content/translation_train.csv\"\n",
        ")\n",
        "df.head()"
      ]
    },
    {
      "cell_type": "code",
      "execution_count": null,
      "id": "15ecb4a3",
      "metadata": {
        "execution": {
          "iopub.execute_input": "2024-01-20T11:46:59.332846Z",
          "iopub.status.busy": "2024-01-20T11:46:59.332508Z",
          "iopub.status.idle": "2024-01-20T11:46:59.339271Z",
          "shell.execute_reply": "2024-01-20T11:46:59.338135Z"
        },
        "papermill": {
          "duration": 0.016203,
          "end_time": "2024-01-20T11:46:59.341199",
          "exception": false,
          "start_time": "2024-01-20T11:46:59.324996",
          "status": "completed"
        },
        "tags": [],
        "colab": {
          "base_uri": "https://localhost:8080/"
        },
        "id": "15ecb4a3",
        "outputId": "b80f17f6-8536-440d-e4a6-0d8db1bdad43"
      },
      "outputs": [
        {
          "output_type": "execute_result",
          "data": {
            "text/plain": [
              "(29000, 2)"
            ]
          },
          "metadata": {},
          "execution_count": 6
        }
      ],
      "source": [
        "df.shape"
      ]
    },
    {
      "cell_type": "code",
      "execution_count": null,
      "id": "17f71856",
      "metadata": {
        "execution": {
          "iopub.execute_input": "2024-01-20T11:46:59.356424Z",
          "iopub.status.busy": "2024-01-20T11:46:59.356069Z",
          "iopub.status.idle": "2024-01-20T11:46:59.372986Z",
          "shell.execute_reply": "2024-01-20T11:46:59.371512Z"
        },
        "papermill": {
          "duration": 0.027599,
          "end_time": "2024-01-20T11:46:59.375577",
          "exception": false,
          "start_time": "2024-01-20T11:46:59.347978",
          "status": "completed"
        },
        "tags": [],
        "id": "17f71856"
      },
      "outputs": [],
      "source": [
        "# Perform train - val split\n",
        "train_df = df.sample(frac=0.95, random_state=200)\n",
        "val_df = df.drop(train_df.index)"
      ]
    },
    {
      "cell_type": "code",
      "execution_count": null,
      "id": "a91bbc1e",
      "metadata": {
        "execution": {
          "iopub.execute_input": "2024-01-20T11:46:59.390941Z",
          "iopub.status.busy": "2024-01-20T11:46:59.390557Z",
          "iopub.status.idle": "2024-01-20T11:46:59.396595Z",
          "shell.execute_reply": "2024-01-20T11:46:59.395525Z"
        },
        "papermill": {
          "duration": 0.016371,
          "end_time": "2024-01-20T11:46:59.398584",
          "exception": false,
          "start_time": "2024-01-20T11:46:59.382213",
          "status": "completed"
        },
        "tags": [],
        "id": "a91bbc1e"
      },
      "outputs": [],
      "source": [
        "def create_iterable(sample_df):\n",
        "    \"\"\"\n",
        "    This converts pandas dataframe into list of tuples\n",
        "    consisting of (german sentences, english sentences).\n",
        "\n",
        "    This iterable in used in our data preparation\n",
        "    \"\"\"\n",
        "    sample_iter = sample_df.to_dict(orient=\"records\")\n",
        "    out_iter = [(dict1[\"german\"], dict1[\"english\"]) for dict1 in sample_iter]\n",
        "    print(f\"length of iterable: {len(out_iter)}\")\n",
        "    return out_iter"
      ]
    },
    {
      "cell_type": "code",
      "execution_count": null,
      "id": "71d3a513",
      "metadata": {
        "execution": {
          "iopub.execute_input": "2024-01-20T11:46:59.413576Z",
          "iopub.status.busy": "2024-01-20T11:46:59.413214Z",
          "iopub.status.idle": "2024-01-20T11:46:59.526352Z",
          "shell.execute_reply": "2024-01-20T11:46:59.525363Z"
        },
        "papermill": {
          "duration": 0.122861,
          "end_time": "2024-01-20T11:46:59.528289",
          "exception": false,
          "start_time": "2024-01-20T11:46:59.405428",
          "status": "completed"
        },
        "tags": [],
        "colab": {
          "base_uri": "https://localhost:8080/"
        },
        "id": "71d3a513",
        "outputId": "634a72b0-d66d-44e5-8dd9-3d81e41882bf"
      },
      "outputs": [
        {
          "output_type": "stream",
          "name": "stdout",
          "text": [
            "length of iterable: 27550\n",
            "length of iterable: 1450\n"
          ]
        }
      ],
      "source": [
        "train_iter = create_iterable(train_df)\n",
        "val_iter = create_iterable(val_df)"
      ]
    },
    {
      "cell_type": "code",
      "execution_count": 11,
      "id": "1388f7d2",
      "metadata": {
        "execution": {
          "iopub.execute_input": "2024-01-20T11:46:59.542651Z",
          "iopub.status.busy": "2024-01-20T11:46:59.542291Z",
          "iopub.status.idle": "2024-01-20T11:46:59.560220Z",
          "shell.execute_reply": "2024-01-20T11:46:59.558949Z"
        },
        "papermill": {
          "duration": 0.028273,
          "end_time": "2024-01-20T11:46:59.563046",
          "exception": false,
          "start_time": "2024-01-20T11:46:59.534773",
          "status": "completed"
        },
        "tags": [],
        "id": "1388f7d2",
        "outputId": "e71f3f35-939e-48a9-8c18-abb3989dc9b8",
        "colab": {
          "base_uri": "https://localhost:8080/",
          "height": 206
        }
      },
      "outputs": [
        {
          "output_type": "execute_result",
          "data": {
            "text/plain": [
              "                                             english  \\\n",
              "0      A man in an orange hat starring at something.   \n",
              "1  A Boston Terrier is running on lush green gras...   \n",
              "2  A girl in karate uniform breaking a stick with...   \n",
              "3  Five people wearing winter jackets and helmets...   \n",
              "4             People are fixing the roof of a house.   \n",
              "\n",
              "                                              german  \n",
              "0  Ein Mann mit einem orangefarbenen Hut, der etw...  \n",
              "1  Ein Boston Terrier läuft über saftig-grünes Gr...  \n",
              "2  Ein Mädchen in einem Karateanzug bricht einen ...  \n",
              "3  Fünf Leute in Winterjacken und mit Helmen steh...  \n",
              "4            Leute Reparieren das Dach eines Hauses.  "
            ],
            "text/html": [
              "\n",
              "  <div id=\"df-6529bbf6-418f-4cda-9360-59f46c9f609d\" class=\"colab-df-container\">\n",
              "    <div>\n",
              "<style scoped>\n",
              "    .dataframe tbody tr th:only-of-type {\n",
              "        vertical-align: middle;\n",
              "    }\n",
              "\n",
              "    .dataframe tbody tr th {\n",
              "        vertical-align: top;\n",
              "    }\n",
              "\n",
              "    .dataframe thead th {\n",
              "        text-align: right;\n",
              "    }\n",
              "</style>\n",
              "<table border=\"1\" class=\"dataframe\">\n",
              "  <thead>\n",
              "    <tr style=\"text-align: right;\">\n",
              "      <th></th>\n",
              "      <th>english</th>\n",
              "      <th>german</th>\n",
              "    </tr>\n",
              "  </thead>\n",
              "  <tbody>\n",
              "    <tr>\n",
              "      <th>0</th>\n",
              "      <td>A man in an orange hat starring at something.</td>\n",
              "      <td>Ein Mann mit einem orangefarbenen Hut, der etw...</td>\n",
              "    </tr>\n",
              "    <tr>\n",
              "      <th>1</th>\n",
              "      <td>A Boston Terrier is running on lush green gras...</td>\n",
              "      <td>Ein Boston Terrier läuft über saftig-grünes Gr...</td>\n",
              "    </tr>\n",
              "    <tr>\n",
              "      <th>2</th>\n",
              "      <td>A girl in karate uniform breaking a stick with...</td>\n",
              "      <td>Ein Mädchen in einem Karateanzug bricht einen ...</td>\n",
              "    </tr>\n",
              "    <tr>\n",
              "      <th>3</th>\n",
              "      <td>Five people wearing winter jackets and helmets...</td>\n",
              "      <td>Fünf Leute in Winterjacken und mit Helmen steh...</td>\n",
              "    </tr>\n",
              "    <tr>\n",
              "      <th>4</th>\n",
              "      <td>People are fixing the roof of a house.</td>\n",
              "      <td>Leute Reparieren das Dach eines Hauses.</td>\n",
              "    </tr>\n",
              "  </tbody>\n",
              "</table>\n",
              "</div>\n",
              "    <div class=\"colab-df-buttons\">\n",
              "\n",
              "  <div class=\"colab-df-container\">\n",
              "    <button class=\"colab-df-convert\" onclick=\"convertToInteractive('df-6529bbf6-418f-4cda-9360-59f46c9f609d')\"\n",
              "            title=\"Convert this dataframe to an interactive table.\"\n",
              "            style=\"display:none;\">\n",
              "\n",
              "  <svg xmlns=\"http://www.w3.org/2000/svg\" height=\"24px\" viewBox=\"0 -960 960 960\">\n",
              "    <path d=\"M120-120v-720h720v720H120Zm60-500h600v-160H180v160Zm220 220h160v-160H400v160Zm0 220h160v-160H400v160ZM180-400h160v-160H180v160Zm440 0h160v-160H620v160ZM180-180h160v-160H180v160Zm440 0h160v-160H620v160Z\"/>\n",
              "  </svg>\n",
              "    </button>\n",
              "\n",
              "  <style>\n",
              "    .colab-df-container {\n",
              "      display:flex;\n",
              "      gap: 12px;\n",
              "    }\n",
              "\n",
              "    .colab-df-convert {\n",
              "      background-color: #E8F0FE;\n",
              "      border: none;\n",
              "      border-radius: 50%;\n",
              "      cursor: pointer;\n",
              "      display: none;\n",
              "      fill: #1967D2;\n",
              "      height: 32px;\n",
              "      padding: 0 0 0 0;\n",
              "      width: 32px;\n",
              "    }\n",
              "\n",
              "    .colab-df-convert:hover {\n",
              "      background-color: #E2EBFA;\n",
              "      box-shadow: 0px 1px 2px rgba(60, 64, 67, 0.3), 0px 1px 3px 1px rgba(60, 64, 67, 0.15);\n",
              "      fill: #174EA6;\n",
              "    }\n",
              "\n",
              "    .colab-df-buttons div {\n",
              "      margin-bottom: 4px;\n",
              "    }\n",
              "\n",
              "    [theme=dark] .colab-df-convert {\n",
              "      background-color: #3B4455;\n",
              "      fill: #D2E3FC;\n",
              "    }\n",
              "\n",
              "    [theme=dark] .colab-df-convert:hover {\n",
              "      background-color: #434B5C;\n",
              "      box-shadow: 0px 1px 3px 1px rgba(0, 0, 0, 0.15);\n",
              "      filter: drop-shadow(0px 1px 2px rgba(0, 0, 0, 0.3));\n",
              "      fill: #FFFFFF;\n",
              "    }\n",
              "  </style>\n",
              "\n",
              "    <script>\n",
              "      const buttonEl =\n",
              "        document.querySelector('#df-6529bbf6-418f-4cda-9360-59f46c9f609d button.colab-df-convert');\n",
              "      buttonEl.style.display =\n",
              "        google.colab.kernel.accessAllowed ? 'block' : 'none';\n",
              "\n",
              "      async function convertToInteractive(key) {\n",
              "        const element = document.querySelector('#df-6529bbf6-418f-4cda-9360-59f46c9f609d');\n",
              "        const dataTable =\n",
              "          await google.colab.kernel.invokeFunction('convertToInteractive',\n",
              "                                                    [key], {});\n",
              "        if (!dataTable) return;\n",
              "\n",
              "        const docLinkHtml = 'Like what you see? Visit the ' +\n",
              "          '<a target=\"_blank\" href=https://colab.research.google.com/notebooks/data_table.ipynb>data table notebook</a>'\n",
              "          + ' to learn more about interactive tables.';\n",
              "        element.innerHTML = '';\n",
              "        dataTable['output_type'] = 'display_data';\n",
              "        await google.colab.output.renderOutput(dataTable, element);\n",
              "        const docLink = document.createElement('div');\n",
              "        docLink.innerHTML = docLinkHtml;\n",
              "        element.appendChild(docLink);\n",
              "      }\n",
              "    </script>\n",
              "  </div>\n",
              "\n",
              "\n",
              "<div id=\"df-7e620481-469c-4598-a36d-b70e999f64f5\">\n",
              "  <button class=\"colab-df-quickchart\" onclick=\"quickchart('df-7e620481-469c-4598-a36d-b70e999f64f5')\"\n",
              "            title=\"Suggest charts\"\n",
              "            style=\"display:none;\">\n",
              "\n",
              "<svg xmlns=\"http://www.w3.org/2000/svg\" height=\"24px\"viewBox=\"0 0 24 24\"\n",
              "     width=\"24px\">\n",
              "    <g>\n",
              "        <path d=\"M19 3H5c-1.1 0-2 .9-2 2v14c0 1.1.9 2 2 2h14c1.1 0 2-.9 2-2V5c0-1.1-.9-2-2-2zM9 17H7v-7h2v7zm4 0h-2V7h2v10zm4 0h-2v-4h2v4z\"/>\n",
              "    </g>\n",
              "</svg>\n",
              "  </button>\n",
              "\n",
              "<style>\n",
              "  .colab-df-quickchart {\n",
              "      --bg-color: #E8F0FE;\n",
              "      --fill-color: #1967D2;\n",
              "      --hover-bg-color: #E2EBFA;\n",
              "      --hover-fill-color: #174EA6;\n",
              "      --disabled-fill-color: #AAA;\n",
              "      --disabled-bg-color: #DDD;\n",
              "  }\n",
              "\n",
              "  [theme=dark] .colab-df-quickchart {\n",
              "      --bg-color: #3B4455;\n",
              "      --fill-color: #D2E3FC;\n",
              "      --hover-bg-color: #434B5C;\n",
              "      --hover-fill-color: #FFFFFF;\n",
              "      --disabled-bg-color: #3B4455;\n",
              "      --disabled-fill-color: #666;\n",
              "  }\n",
              "\n",
              "  .colab-df-quickchart {\n",
              "    background-color: var(--bg-color);\n",
              "    border: none;\n",
              "    border-radius: 50%;\n",
              "    cursor: pointer;\n",
              "    display: none;\n",
              "    fill: var(--fill-color);\n",
              "    height: 32px;\n",
              "    padding: 0;\n",
              "    width: 32px;\n",
              "  }\n",
              "\n",
              "  .colab-df-quickchart:hover {\n",
              "    background-color: var(--hover-bg-color);\n",
              "    box-shadow: 0 1px 2px rgba(60, 64, 67, 0.3), 0 1px 3px 1px rgba(60, 64, 67, 0.15);\n",
              "    fill: var(--button-hover-fill-color);\n",
              "  }\n",
              "\n",
              "  .colab-df-quickchart-complete:disabled,\n",
              "  .colab-df-quickchart-complete:disabled:hover {\n",
              "    background-color: var(--disabled-bg-color);\n",
              "    fill: var(--disabled-fill-color);\n",
              "    box-shadow: none;\n",
              "  }\n",
              "\n",
              "  .colab-df-spinner {\n",
              "    border: 2px solid var(--fill-color);\n",
              "    border-color: transparent;\n",
              "    border-bottom-color: var(--fill-color);\n",
              "    animation:\n",
              "      spin 1s steps(1) infinite;\n",
              "  }\n",
              "\n",
              "  @keyframes spin {\n",
              "    0% {\n",
              "      border-color: transparent;\n",
              "      border-bottom-color: var(--fill-color);\n",
              "      border-left-color: var(--fill-color);\n",
              "    }\n",
              "    20% {\n",
              "      border-color: transparent;\n",
              "      border-left-color: var(--fill-color);\n",
              "      border-top-color: var(--fill-color);\n",
              "    }\n",
              "    30% {\n",
              "      border-color: transparent;\n",
              "      border-left-color: var(--fill-color);\n",
              "      border-top-color: var(--fill-color);\n",
              "      border-right-color: var(--fill-color);\n",
              "    }\n",
              "    40% {\n",
              "      border-color: transparent;\n",
              "      border-right-color: var(--fill-color);\n",
              "      border-top-color: var(--fill-color);\n",
              "    }\n",
              "    60% {\n",
              "      border-color: transparent;\n",
              "      border-right-color: var(--fill-color);\n",
              "    }\n",
              "    80% {\n",
              "      border-color: transparent;\n",
              "      border-right-color: var(--fill-color);\n",
              "      border-bottom-color: var(--fill-color);\n",
              "    }\n",
              "    90% {\n",
              "      border-color: transparent;\n",
              "      border-bottom-color: var(--fill-color);\n",
              "    }\n",
              "  }\n",
              "</style>\n",
              "\n",
              "  <script>\n",
              "    async function quickchart(key) {\n",
              "      const quickchartButtonEl =\n",
              "        document.querySelector('#' + key + ' button');\n",
              "      quickchartButtonEl.disabled = true;  // To prevent multiple clicks.\n",
              "      quickchartButtonEl.classList.add('colab-df-spinner');\n",
              "      try {\n",
              "        const charts = await google.colab.kernel.invokeFunction(\n",
              "            'suggestCharts', [key], {});\n",
              "      } catch (error) {\n",
              "        console.error('Error during call to suggestCharts:', error);\n",
              "      }\n",
              "      quickchartButtonEl.classList.remove('colab-df-spinner');\n",
              "      quickchartButtonEl.classList.add('colab-df-quickchart-complete');\n",
              "    }\n",
              "    (() => {\n",
              "      let quickchartButtonEl =\n",
              "        document.querySelector('#df-7e620481-469c-4598-a36d-b70e999f64f5 button');\n",
              "      quickchartButtonEl.style.display =\n",
              "        google.colab.kernel.accessAllowed ? 'block' : 'none';\n",
              "    })();\n",
              "  </script>\n",
              "</div>\n",
              "\n",
              "    </div>\n",
              "  </div>\n"
            ],
            "application/vnd.google.colaboratory.intrinsic+json": {
              "type": "dataframe",
              "variable_name": "test_df",
              "summary": "{\n  \"name\": \"test_df\",\n  \"rows\": 1000,\n  \"fields\": [\n    {\n      \"column\": \"english\",\n      \"properties\": {\n        \"dtype\": \"string\",\n        \"num_unique_values\": 1000,\n        \"samples\": [\n          \"Four black men are sitting on the steps of a church.\",\n          \"A man in an orange shirt and a blond boy are riding with other people on a \\\"Pullman\\\" vehicle.\",\n          \"A man wearing a black hat taking a photo in a busy street.\"\n        ],\n        \"semantic_type\": \"\",\n        \"description\": \"\"\n      }\n    },\n    {\n      \"column\": \"german\",\n      \"properties\": {\n        \"dtype\": \"string\",\n        \"num_unique_values\": 1000,\n        \"samples\": [\n          \"Vier schwarze M\\u00e4nner sitzen auf den Stufen einer Kirche.\",\n          \"Ein Mann in einem orangen Shirt und ein blonder Junge fahren mit anderen Personen in einem \\\"Pullman\\\".\",\n          \"Ein Mann mit einem schwarzen Hut macht ein Foto auf einer belebten Stra\\u00dfe.\"\n        ],\n        \"semantic_type\": \"\",\n        \"description\": \"\"\n      }\n    }\n  ]\n}"
            }
          },
          "metadata": {},
          "execution_count": 11
        }
      ],
      "source": [
        "test_df = pd.read_csv(\n",
        "    \"/content/translation_test.csv\"\n",
        ")\n",
        "test_df.head()"
      ]
    },
    {
      "cell_type": "code",
      "execution_count": 12,
      "id": "21597f9e",
      "metadata": {
        "execution": {
          "iopub.execute_input": "2024-01-20T11:46:59.580461Z",
          "iopub.status.busy": "2024-01-20T11:46:59.580092Z",
          "iopub.status.idle": "2024-01-20T11:46:59.590891Z",
          "shell.execute_reply": "2024-01-20T11:46:59.589522Z"
        },
        "papermill": {
          "duration": 0.022199,
          "end_time": "2024-01-20T11:46:59.593452",
          "exception": false,
          "start_time": "2024-01-20T11:46:59.571253",
          "status": "completed"
        },
        "tags": [],
        "id": "21597f9e",
        "outputId": "33d30f92-9f0d-4d49-9c85-feaa8b7df754",
        "colab": {
          "base_uri": "https://localhost:8080/"
        }
      },
      "outputs": [
        {
          "output_type": "stream",
          "name": "stdout",
          "text": [
            "length of iterable: 1000\n"
          ]
        }
      ],
      "source": [
        "test_iter = create_iterable(test_df)"
      ]
    },
    {
      "cell_type": "markdown",
      "id": "eae389e1",
      "metadata": {
        "papermill": {
          "duration": 0.00699,
          "end_time": "2024-01-20T11:46:59.607502",
          "exception": false,
          "start_time": "2024-01-20T11:46:59.600512",
          "status": "completed"
        },
        "tags": [],
        "id": "eae389e1"
      },
      "source": [
        "## Create Vocab from data sources"
      ]
    },
    {
      "cell_type": "code",
      "execution_count": 13,
      "id": "89ff0ee7",
      "metadata": {
        "execution": {
          "iopub.execute_input": "2024-01-20T11:46:59.623123Z",
          "iopub.status.busy": "2024-01-20T11:46:59.622697Z",
          "iopub.status.idle": "2024-01-20T11:46:59.629508Z",
          "shell.execute_reply": "2024-01-20T11:46:59.628215Z"
        },
        "papermill": {
          "duration": 0.017996,
          "end_time": "2024-01-20T11:46:59.632327",
          "exception": false,
          "start_time": "2024-01-20T11:46:59.614331",
          "status": "completed"
        },
        "tags": [],
        "id": "89ff0ee7"
      },
      "outputs": [],
      "source": [
        "def load_tokenizers():\n",
        "    \"\"\"\n",
        "    Load the German and English tokenizers provided by spaCy.\n",
        "\n",
        "    Returns:\n",
        "        spacy_de:     German tokenizer\n",
        "        spacy_en:     English tokenizer\n",
        "    \"\"\"\n",
        "    try:\n",
        "        spacy_de = spacy.load(\"de_core_news_sm\")\n",
        "    except OSError:\n",
        "        os.system(\"python -m spacy download de_core_news_sm\")\n",
        "        spacy_de = spacy.load(\"de_core_news_sm\")\n",
        "\n",
        "    try:\n",
        "        spacy_en = spacy.load(\"en_core_web_sm\")\n",
        "    except OSError:\n",
        "        os.system(\"python -m spacy download en_core_web_sm\")\n",
        "        spacy_en = spacy.load(\"en_core_web_sm\")\n",
        "\n",
        "    print(\"Loaded English and German tokenizers.\")\n",
        "    return spacy_de, spacy_en"
      ]
    },
    {
      "cell_type": "code",
      "execution_count": 14,
      "id": "58323bb2",
      "metadata": {
        "execution": {
          "iopub.execute_input": "2024-01-20T11:46:59.649103Z",
          "iopub.status.busy": "2024-01-20T11:46:59.648551Z",
          "iopub.status.idle": "2024-01-20T11:46:59.653379Z",
          "shell.execute_reply": "2024-01-20T11:46:59.652574Z"
        },
        "papermill": {
          "duration": 0.015593,
          "end_time": "2024-01-20T11:46:59.655453",
          "exception": false,
          "start_time": "2024-01-20T11:46:59.639860",
          "status": "completed"
        },
        "tags": [],
        "id": "58323bb2"
      },
      "outputs": [],
      "source": [
        "def tokenize(text: str, tokenizer):\n",
        "    \"\"\"\n",
        "    Split a string into its tokens using the provided tokenizer.\n",
        "\n",
        "    Args:\n",
        "        text:         string\n",
        "        tokenizer:    tokenizer for the language\n",
        "\n",
        "    Returns:\n",
        "        tokenized list of strings\n",
        "    \"\"\"\n",
        "    return [tok.text.lower() for tok in tokenizer.tokenizer(text)]"
      ]
    },
    {
      "cell_type": "code",
      "execution_count": 15,
      "id": "024ecd77",
      "metadata": {
        "execution": {
          "iopub.execute_input": "2024-01-20T11:46:59.671379Z",
          "iopub.status.busy": "2024-01-20T11:46:59.670960Z",
          "iopub.status.idle": "2024-01-20T11:46:59.676721Z",
          "shell.execute_reply": "2024-01-20T11:46:59.675312Z"
        },
        "papermill": {
          "duration": 0.016568,
          "end_time": "2024-01-20T11:46:59.679055",
          "exception": false,
          "start_time": "2024-01-20T11:46:59.662487",
          "status": "completed"
        },
        "tags": [],
        "id": "024ecd77"
      },
      "outputs": [],
      "source": [
        "def yield_tokens(data_iter, tokenizer, index: int):\n",
        "    \"\"\"\n",
        "    Return the tokens for the appropriate language.\n",
        "\n",
        "    Args:\n",
        "        data_iter:    text here\n",
        "        tokenizer:    tokenizer for the language\n",
        "        index:        index of the language in the tuple | (de=0, en=1)\n",
        "\n",
        "    Yields:\n",
        "        sequences based on index\n",
        "    \"\"\"\n",
        "    for from_tuple in data_iter:\n",
        "        yield tokenizer(from_tuple[index])"
      ]
    },
    {
      "cell_type": "code",
      "execution_count": 16,
      "id": "4a02711d",
      "metadata": {
        "execution": {
          "iopub.execute_input": "2024-01-20T11:46:59.694844Z",
          "iopub.status.busy": "2024-01-20T11:46:59.694231Z",
          "iopub.status.idle": "2024-01-20T11:46:59.701456Z",
          "shell.execute_reply": "2024-01-20T11:46:59.700446Z"
        },
        "papermill": {
          "duration": 0.017458,
          "end_time": "2024-01-20T11:46:59.703577",
          "exception": false,
          "start_time": "2024-01-20T11:46:59.686119",
          "status": "completed"
        },
        "tags": [],
        "id": "4a02711d"
      },
      "outputs": [],
      "source": [
        "def build_vocabulary(\n",
        "    spacy_de, spacy_en, train_iter, val_iter, test_iter, min_freq: int = 2\n",
        "):\n",
        "    def tokenize_de(text: str):\n",
        "        \"\"\"\n",
        "        Call the German tokenizer.\n",
        "\n",
        "        Args:\n",
        "            text:         string\n",
        "            min_freq:     minimum frequency needed to include a word in the vocabulary\n",
        "\n",
        "        Returns:\n",
        "            tokenized list of strings\n",
        "        \"\"\"\n",
        "        return tokenize(text, spacy_de)\n",
        "\n",
        "    def tokenize_en(text: str):\n",
        "        \"\"\"\n",
        "        Call the English tokenizer.\n",
        "\n",
        "        Args:\n",
        "            text:         string\n",
        "\n",
        "        Returns:\n",
        "            tokenized list of strings\n",
        "        \"\"\"\n",
        "        return tokenize(text, spacy_en)\n",
        "\n",
        "    print(\"Building German Vocabulary...\")\n",
        "\n",
        "    #     # load train, val, and test data pipelines\n",
        "    #     train, val, test = datasets.IWSLT2016(language_pair=(\"de\", \"en\"))\n",
        "    train = train_iter\n",
        "    val = val_iter\n",
        "    test = test_iter\n",
        "\n",
        "    # generate source vocabulary\n",
        "    vocab_src = build_vocab_from_iterator(\n",
        "        yield_tokens(\n",
        "            train + val + test, tokenize_de, index=0\n",
        "        ),  # tokens for each German sentence (index 0)\n",
        "        min_freq=min_freq,\n",
        "        specials=[\"<bos>\", \"<eos>\", \"<pad>\", \"<unk>\"],\n",
        "    )\n",
        "\n",
        "    print(\"Building English Vocabulary...\")\n",
        "\n",
        "    # generate target vocabulary\n",
        "    vocab_trg = build_vocab_from_iterator(\n",
        "        yield_tokens(\n",
        "            train + val + test, tokenize_en, index=1\n",
        "        ),  # tokens for each English sentence (index 1)\n",
        "        min_freq=2,  #\n",
        "        specials=[\"<bos>\", \"<eos>\", \"<pad>\", \"<unk>\"],\n",
        "    )\n",
        "\n",
        "    # set default token for out-of-vocabulary words (OOV)\n",
        "    vocab_src.set_default_index(vocab_src[\"<unk>\"])\n",
        "    vocab_trg.set_default_index(vocab_trg[\"<unk>\"])\n",
        "\n",
        "    return vocab_src, vocab_trg"
      ]
    },
    {
      "cell_type": "code",
      "execution_count": 17,
      "id": "23000b10",
      "metadata": {
        "execution": {
          "iopub.execute_input": "2024-01-20T11:46:59.719234Z",
          "iopub.status.busy": "2024-01-20T11:46:59.718691Z",
          "iopub.status.idle": "2024-01-20T11:46:59.724940Z",
          "shell.execute_reply": "2024-01-20T11:46:59.723615Z"
        },
        "papermill": {
          "duration": 0.016715,
          "end_time": "2024-01-20T11:46:59.727311",
          "exception": false,
          "start_time": "2024-01-20T11:46:59.710596",
          "status": "completed"
        },
        "tags": [],
        "id": "23000b10"
      },
      "outputs": [],
      "source": [
        "def load_vocab(spacy_de, spacy_en, train_iter, val_iter, test_iter, min_freq: int = 2):\n",
        "    \"\"\"\n",
        "    Args:\n",
        "        spacy_de:     German tokenizer\n",
        "        spacy_en:     English tokenizer\n",
        "        min_freq:     minimum frequency needed to include a word in the vocabulary\n",
        "\n",
        "    Returns:\n",
        "        vocab_src:    German vocabulary\n",
        "        vocab_trg:     English vocabulary\n",
        "    \"\"\"\n",
        "\n",
        "    if not os.path.exists(\"vocab.pt\"):\n",
        "        # build the German/English vocabulary if it does not exist\n",
        "        vocab_src, vocab_trg = build_vocabulary(\n",
        "            spacy_de, spacy_en, train_iter, val_iter, test_iter, min_freq\n",
        "        )\n",
        "        # save it to a file\n",
        "        torch.save((vocab_src, vocab_trg), \"vocab.pt\")\n",
        "    else:\n",
        "        # load the vocab if it exists\n",
        "        vocab_src, vocab_trg = torch.load(\"vocab.pt\")\n",
        "\n",
        "    print(\"Finished.\\nVocabulary sizes:\")\n",
        "    print(\"\\tSource:\", len(vocab_src))\n",
        "    print(\"\\tTarget:\", len(vocab_trg))\n",
        "    return vocab_src, vocab_trg"
      ]
    },
    {
      "cell_type": "code",
      "execution_count": 18,
      "id": "140326ea",
      "metadata": {
        "execution": {
          "iopub.execute_input": "2024-01-20T11:46:59.742812Z",
          "iopub.status.busy": "2024-01-20T11:46:59.742434Z",
          "iopub.status.idle": "2024-01-20T11:47:15.543991Z",
          "shell.execute_reply": "2024-01-20T11:47:15.542954Z"
        },
        "papermill": {
          "duration": 15.811363,
          "end_time": "2024-01-20T11:47:15.545959",
          "exception": false,
          "start_time": "2024-01-20T11:46:59.734596",
          "status": "completed"
        },
        "tags": [],
        "id": "140326ea",
        "outputId": "4b785cda-8e41-48b0-8f41-f56bca289960",
        "colab": {
          "base_uri": "https://localhost:8080/"
        }
      },
      "outputs": [
        {
          "output_type": "stream",
          "name": "stdout",
          "text": [
            "Loaded English and German tokenizers.\n"
          ]
        }
      ],
      "source": [
        "# global variables used later in the script\n",
        "spacy_de, spacy_en = load_tokenizers()"
      ]
    },
    {
      "cell_type": "code",
      "execution_count": 19,
      "id": "c878ae87",
      "metadata": {
        "execution": {
          "iopub.execute_input": "2024-01-20T11:47:15.562863Z",
          "iopub.status.busy": "2024-01-20T11:47:15.561864Z",
          "iopub.status.idle": "2024-01-20T11:47:19.213941Z",
          "shell.execute_reply": "2024-01-20T11:47:19.212581Z"
        },
        "papermill": {
          "duration": 3.66232,
          "end_time": "2024-01-20T11:47:19.215705",
          "exception": false,
          "start_time": "2024-01-20T11:47:15.553385",
          "status": "completed"
        },
        "tags": [],
        "id": "c878ae87",
        "outputId": "363af16d-0061-4532-e983-caea8741cafe",
        "colab": {
          "base_uri": "https://localhost:8080/"
        }
      },
      "outputs": [
        {
          "output_type": "stream",
          "name": "stdout",
          "text": [
            "Building German Vocabulary...\n",
            "Building English Vocabulary...\n",
            "Finished.\n",
            "Vocabulary sizes:\n",
            "\tSource: 7983\n",
            "\tTarget: 5979\n"
          ]
        }
      ],
      "source": [
        "vocab_src, vocab_trg = load_vocab(spacy_de, spacy_en, train_iter, val_iter, test_iter)"
      ]
    },
    {
      "cell_type": "code",
      "execution_count": 20,
      "id": "7e663585",
      "metadata": {
        "execution": {
          "iopub.execute_input": "2024-01-20T11:47:19.232637Z",
          "iopub.status.busy": "2024-01-20T11:47:19.232284Z",
          "iopub.status.idle": "2024-01-20T11:47:19.237812Z",
          "shell.execute_reply": "2024-01-20T11:47:19.236517Z"
        },
        "papermill": {
          "duration": 0.016341,
          "end_time": "2024-01-20T11:47:19.239796",
          "exception": false,
          "start_time": "2024-01-20T11:47:19.223455",
          "status": "completed"
        },
        "tags": [],
        "id": "7e663585"
      },
      "outputs": [],
      "source": [
        "BOS_IDX = vocab_trg[\"<bos>\"]\n",
        "EOS_IDX = vocab_trg[\"<eos>\"]\n",
        "PAD_IDX = vocab_trg[\"<pad>\"]"
      ]
    },
    {
      "cell_type": "markdown",
      "id": "6462f314",
      "metadata": {
        "papermill": {
          "duration": 0.007154,
          "end_time": "2024-01-20T11:47:19.255229",
          "exception": false,
          "start_time": "2024-01-20T11:47:19.248075",
          "status": "completed"
        },
        "tags": [],
        "id": "6462f314"
      },
      "source": [
        "## Perform data preprocess"
      ]
    },
    {
      "cell_type": "code",
      "execution_count": 21,
      "id": "f0802d0e",
      "metadata": {
        "execution": {
          "iopub.execute_input": "2024-01-20T11:47:19.272058Z",
          "iopub.status.busy": "2024-01-20T11:47:19.271461Z",
          "iopub.status.idle": "2024-01-20T11:47:19.278505Z",
          "shell.execute_reply": "2024-01-20T11:47:19.277563Z"
        },
        "papermill": {
          "duration": 0.018153,
          "end_time": "2024-01-20T11:47:19.280764",
          "exception": false,
          "start_time": "2024-01-20T11:47:19.262611",
          "status": "completed"
        },
        "tags": [],
        "id": "f0802d0e"
      },
      "outputs": [],
      "source": [
        "def data_process(raw_data):\n",
        "    \"\"\"\n",
        "    Process raw sentences by tokenizing and converting to integers based on\n",
        "    the vocabulary.\n",
        "\n",
        "    Args:\n",
        "        raw_data:     German-English sentence pairs\n",
        "    Returns:\n",
        "        data:         tokenized data converted to index based on vocabulary\n",
        "    \"\"\"\n",
        "    data = []\n",
        "    # loop through each sentence pair\n",
        "    for raw_de, raw_en in tqdm(raw_data):\n",
        "        de_tensor_ = []\n",
        "        # tokenize the sentence and convert each word to an integers\n",
        "        for token in spacy_de.tokenizer(raw_de):\n",
        "            de_tensor_.append(vocab_src[token.text.lower()])\n",
        "\n",
        "        en_tensor_ = []\n",
        "        # tokenize the sentence and convert each word to an integers\n",
        "        for token in spacy_en.tokenizer(raw_en):\n",
        "            en_tensor_.append(vocab_trg[token.text.lower()])\n",
        "\n",
        "        de_tensor_ = torch.tensor(de_tensor_, dtype=torch.long)\n",
        "        en_tensor_ = torch.tensor(en_tensor_, dtype=torch.long)\n",
        "        # append tensor representations\n",
        "        data.append((de_tensor_, en_tensor_))\n",
        "    return data"
      ]
    },
    {
      "cell_type": "code",
      "execution_count": 22,
      "id": "7e88f7a3",
      "metadata": {
        "execution": {
          "iopub.execute_input": "2024-01-20T11:47:19.298229Z",
          "iopub.status.busy": "2024-01-20T11:47:19.297133Z",
          "iopub.status.idle": "2024-01-20T11:47:22.389429Z",
          "shell.execute_reply": "2024-01-20T11:47:22.388454Z"
        },
        "papermill": {
          "duration": 3.104618,
          "end_time": "2024-01-20T11:47:22.393069",
          "exception": false,
          "start_time": "2024-01-20T11:47:19.288451",
          "status": "completed"
        },
        "tags": [],
        "id": "7e88f7a3",
        "outputId": "e8f9914e-1dba-420a-dda8-30eaedfdaae5",
        "colab": {
          "base_uri": "https://localhost:8080/"
        }
      },
      "outputs": [
        {
          "output_type": "stream",
          "name": "stderr",
          "text": [
            "100%|██████████| 27550/27550 [00:05<00:00, 4762.59it/s]\n"
          ]
        },
        {
          "output_type": "stream",
          "name": "stdout",
          "text": [
            "Train data shape: 27550\n"
          ]
        },
        {
          "output_type": "stream",
          "name": "stderr",
          "text": [
            "100%|██████████| 1450/1450 [00:00<00:00, 6349.14it/s]\n"
          ]
        },
        {
          "output_type": "stream",
          "name": "stdout",
          "text": [
            "Val data shape: 1450\n"
          ]
        },
        {
          "output_type": "stream",
          "name": "stderr",
          "text": [
            "100%|██████████| 1000/1000 [00:00<00:00, 6156.12it/s]"
          ]
        },
        {
          "output_type": "stream",
          "name": "stdout",
          "text": [
            "Test data shape: 1000\n"
          ]
        },
        {
          "output_type": "stream",
          "name": "stderr",
          "text": [
            "\n"
          ]
        }
      ],
      "source": [
        "# processed data\n",
        "train_data = data_process(train_iter)\n",
        "print(f\"Train data shape: {len(train_data)}\")\n",
        "val_data = data_process(val_iter)\n",
        "print(f\"Val data shape: {len(val_data)}\")\n",
        "test_data = data_process(test_iter)\n",
        "print(f\"Test data shape: {len(test_data)}\")"
      ]
    },
    {
      "cell_type": "code",
      "execution_count": 23,
      "id": "060a228c",
      "metadata": {
        "execution": {
          "iopub.execute_input": "2024-01-20T11:47:22.416944Z",
          "iopub.status.busy": "2024-01-20T11:47:22.416575Z",
          "iopub.status.idle": "2024-01-20T11:47:22.424219Z",
          "shell.execute_reply": "2024-01-20T11:47:22.423382Z"
        },
        "papermill": {
          "duration": 0.021007,
          "end_time": "2024-01-20T11:47:22.426292",
          "exception": false,
          "start_time": "2024-01-20T11:47:22.405285",
          "status": "completed"
        },
        "tags": [],
        "id": "060a228c",
        "outputId": "57bc0dae-e264-4340-fedd-0dfec053d02e",
        "colab": {
          "base_uri": "https://localhost:8080/"
        }
      },
      "outputs": [
        {
          "output_type": "execute_result",
          "data": {
            "text/plain": [
              "14"
            ]
          },
          "metadata": {},
          "execution_count": 23
        }
      ],
      "source": [
        "len(train_data[2][0])"
      ]
    },
    {
      "cell_type": "markdown",
      "id": "65e889f1",
      "metadata": {
        "papermill": {
          "duration": 0.009825,
          "end_time": "2024-01-20T11:47:22.446330",
          "exception": false,
          "start_time": "2024-01-20T11:47:22.436505",
          "status": "completed"
        },
        "tags": [],
        "id": "65e889f1"
      },
      "source": [
        "## Create collate function"
      ]
    },
    {
      "cell_type": "code",
      "execution_count": 24,
      "id": "496a4c4c",
      "metadata": {
        "execution": {
          "iopub.execute_input": "2024-01-20T11:47:22.468297Z",
          "iopub.status.busy": "2024-01-20T11:47:22.467884Z",
          "iopub.status.idle": "2024-01-20T11:47:22.475409Z",
          "shell.execute_reply": "2024-01-20T11:47:22.474456Z"
        },
        "papermill": {
          "duration": 0.020811,
          "end_time": "2024-01-20T11:47:22.477226",
          "exception": false,
          "start_time": "2024-01-20T11:47:22.456415",
          "status": "completed"
        },
        "tags": [],
        "id": "496a4c4c"
      },
      "outputs": [],
      "source": [
        "def generate_batch(data_batch):\n",
        "    \"\"\"\n",
        "    Process indexed-sequences by adding <bos>, <eos>, and <pad> tokens.\n",
        "\n",
        "    Args:\n",
        "        data_batch:     German-English indexed-sentence pairs\n",
        "\n",
        "    Returns:\n",
        "        two batches:    one for German and one for English\n",
        "    \"\"\"\n",
        "    de_batch, en_batch = [], []\n",
        "\n",
        "    # for each sentence\n",
        "    for de_item, en_item in data_batch:\n",
        "        # add <bos> and <eos> indices before and after the sentence\n",
        "        de_temp = torch.cat(\n",
        "            [torch.tensor([BOS_IDX]), de_item, torch.tensor([EOS_IDX])], dim=0\n",
        "        ).to(device)\n",
        "        en_temp = torch.cat(\n",
        "            [torch.tensor([BOS_IDX]), en_item, torch.tensor([EOS_IDX])], dim=0\n",
        "        ).to(device)\n",
        "\n",
        "        # add padding\n",
        "        de_batch.append(\n",
        "            pad(\n",
        "                de_temp,\n",
        "                (\n",
        "                    0,  # dimension to pad\n",
        "                    MAX_PADDING - len(de_temp),  # amount of padding to add\n",
        "                ),\n",
        "                value=PAD_IDX,\n",
        "            )\n",
        "        )\n",
        "\n",
        "        # add padding\n",
        "        en_batch.append(\n",
        "            pad(\n",
        "                en_temp,\n",
        "                (\n",
        "                    0,  # dimension to pad\n",
        "                    MAX_PADDING - len(en_temp),  # amount of padding to add\n",
        "                ),\n",
        "                value=PAD_IDX,\n",
        "            )\n",
        "        )\n",
        "\n",
        "    return torch.stack(de_batch), torch.stack(en_batch)"
      ]
    },
    {
      "cell_type": "markdown",
      "id": "49620c5f",
      "metadata": {
        "papermill": {
          "duration": 0.009848,
          "end_time": "2024-01-20T11:47:22.497419",
          "exception": false,
          "start_time": "2024-01-20T11:47:22.487571",
          "status": "completed"
        },
        "tags": [],
        "id": "49620c5f"
      },
      "source": [
        "## Data loaders Created for training"
      ]
    },
    {
      "cell_type": "code",
      "execution_count": 25,
      "id": "2d2cf47c",
      "metadata": {
        "execution": {
          "iopub.execute_input": "2024-01-20T11:47:22.577985Z",
          "iopub.status.busy": "2024-01-20T11:47:22.577627Z",
          "iopub.status.idle": "2024-01-20T11:47:22.588953Z",
          "shell.execute_reply": "2024-01-20T11:47:22.587702Z"
        },
        "papermill": {
          "duration": 0.025197,
          "end_time": "2024-01-20T11:47:22.591504",
          "exception": false,
          "start_time": "2024-01-20T11:47:22.566307",
          "status": "completed"
        },
        "tags": [],
        "id": "2d2cf47c"
      },
      "outputs": [],
      "source": [
        "MAX_PADDING = 20\n",
        "BATCH_SIZE = 128\n",
        "\n",
        "train_iter = DataLoader(\n",
        "    to_map_style_dataset(train_data),\n",
        "    batch_size=BATCH_SIZE,\n",
        "    shuffle=True,\n",
        "    drop_last=True,\n",
        "    collate_fn=generate_batch,\n",
        ")\n",
        "\n",
        "valid_iter = DataLoader(\n",
        "    to_map_style_dataset(val_data),\n",
        "    batch_size=BATCH_SIZE,\n",
        "    shuffle=True,\n",
        "    drop_last=True,\n",
        "    collate_fn=generate_batch,\n",
        ")\n",
        "\n",
        "test_iter = DataLoader(\n",
        "    to_map_style_dataset(test_data),\n",
        "    batch_size=BATCH_SIZE,\n",
        "    shuffle=True,\n",
        "    drop_last=True,\n",
        "    collate_fn=generate_batch,\n",
        ")"
      ]
    },
    {
      "cell_type": "code",
      "execution_count": null,
      "id": "faf3aabd",
      "metadata": {
        "papermill": {
          "duration": 0.009822,
          "end_time": "2024-01-20T11:47:22.611572",
          "exception": false,
          "start_time": "2024-01-20T11:47:22.601750",
          "status": "completed"
        },
        "tags": [],
        "id": "faf3aabd"
      },
      "outputs": [],
      "source": []
    }
  ],
  "metadata": {
    "kaggle": {
      "accelerator": "none",
      "dataSources": [
        {
          "datasetId": 1800581,
          "sourceId": 2936819,
          "sourceType": "datasetVersion"
        }
      ],
      "dockerImageVersionId": 30636,
      "isGpuEnabled": false,
      "isInternetEnabled": true,
      "language": "python",
      "sourceType": "notebook"
    },
    "kernelspec": {
      "display_name": "Python 3",
      "language": "python",
      "name": "python3"
    },
    "language_info": {
      "codemirror_mode": {
        "name": "ipython",
        "version": 3
      },
      "file_extension": ".py",
      "mimetype": "text/x-python",
      "name": "python",
      "nbconvert_exporter": "python",
      "pygments_lexer": "ipython3",
      "version": "3.10.12"
    },
    "papermill": {
      "default_parameters": {},
      "duration": 46.477843,
      "end_time": "2024-01-20T11:47:23.946112",
      "environment_variables": {},
      "exception": null,
      "input_path": "__notebook__.ipynb",
      "output_path": "__notebook__.ipynb",
      "parameters": {},
      "start_time": "2024-01-20T11:46:37.468269",
      "version": "2.4.0"
    },
    "colab": {
      "provenance": []
    }
  },
  "nbformat": 4,
  "nbformat_minor": 5
}